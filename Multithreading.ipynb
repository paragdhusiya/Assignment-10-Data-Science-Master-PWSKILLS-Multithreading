{
 "cells": [
  {
   "cell_type": "markdown",
   "metadata": {},
   "source": [
    "Q1. what is multithreading in python? why is it used? Name the module used to handle threads in python."
   ]
  },
  {
   "cell_type": "code",
   "execution_count": 1,
   "metadata": {},
   "outputs": [
    {
     "name": "stdout",
     "output_type": "stream",
     "text": [
      "Thread 1: 0Thread 2: A\n",
      "\n",
      "Thread 2: B\n",
      "Thread 1: 1\n",
      "Thread 2: CThread 1: 2\n",
      "\n",
      "Thread 1: 3\n",
      "Thread 2: D\n",
      "Thread 1: 4Thread 2: E\n",
      "\n",
      "Main thread exiting.\n"
     ]
    }
   ],
   "source": [
    "import threading\n",
    "import time\n",
    "\n",
    "def print_numbers():\n",
    "    for i in range(5):\n",
    "        time.sleep(1)\n",
    "        print(f\"Thread 1: {i}\")\n",
    "\n",
    "def print_letters():\n",
    "    for letter in 'ABCDE':\n",
    "        time.sleep(1)\n",
    "        print(f\"Thread 2: {letter}\")\n",
    "\n",
    "# Create threads\n",
    "thread1 = threading.Thread(target=print_numbers)\n",
    "thread2 = threading.Thread(target=print_letters)\n",
    "\n",
    "# Start threads\n",
    "thread1.start()\n",
    "thread2.start()\n",
    "\n",
    "# Wait for threads to finish\n",
    "thread1.join()\n",
    "thread2.join()\n",
    "\n",
    "print(\"Main thread exiting.\")\n"
   ]
  },
  {
   "cell_type": "markdown",
   "metadata": {},
   "source": [
    "Q2. why threading module used? write the use of the following functions:\n",
    "    1. activeCount()\n",
    "    2. currentThread()\n",
    "    3. enumerate()"
   ]
  },
  {
   "cell_type": "code",
   "execution_count": 2,
   "metadata": {},
   "outputs": [
    {
     "name": "stdout",
     "output_type": "stream",
     "text": [
      "Thread is working.Thread is working.\n",
      "\n",
      "Number of active threads: 6\n",
      "Current Thread: CustomThread\n"
     ]
    },
    {
     "name": "stderr",
     "output_type": "stream",
     "text": [
      "C:\\Users\\parag\\AppData\\Local\\Temp\\ipykernel_10456\\3336865457.py:16: DeprecationWarning: activeCount() is deprecated, use active_count() instead\n",
      "  active_threads = threading.activeCount()\n",
      "C:\\Users\\parag\\AppData\\Local\\Temp\\ipykernel_10456\\3336865457.py:23: DeprecationWarning: currentThread() is deprecated, use current_thread() instead\n",
      "  current_thread = threading.currentThread()\n"
     ]
    },
    {
     "name": "stdout",
     "output_type": "stream",
     "text": [
      "Thread is working.Thread is working.\n",
      "\n",
      "All active threads:\n",
      "MainThread\n",
      "IOPub\n",
      "Heartbeat\n",
      "Control\n",
      "IPythonHistorySavingThread\n",
      "Thread-4\n"
     ]
    }
   ],
   "source": [
    "#activeCount()\n",
    "import threading\n",
    "\n",
    "def my_function():\n",
    "    print(\"Thread is working.\")\n",
    "\n",
    "# Create threads\n",
    "thread1 = threading.Thread(target=my_function)\n",
    "thread2 = threading.Thread(target=my_function)\n",
    "\n",
    "# Start threads\n",
    "thread1.start()\n",
    "thread2.start()\n",
    "\n",
    "# Get the number of active threads\n",
    "active_threads = threading.activeCount()\n",
    "print(f\"Number of active threads: {active_threads}\")\n",
    "\n",
    "#currentThread()\n",
    "import threading\n",
    "\n",
    "def print_current_thread():\n",
    "    current_thread = threading.currentThread()\n",
    "    print(f\"Current Thread: {current_thread.name}\")\n",
    "\n",
    "# Create a thread with a custom name\n",
    "custom_thread = threading.Thread(target=print_current_thread, name=\"CustomThread\")\n",
    "\n",
    "# Start the thread\n",
    "custom_thread.start()\n",
    "\n",
    "#enumerate()\n",
    "import threading\n",
    "import time\n",
    "\n",
    "def my_function():\n",
    "    time.sleep(2)\n",
    "    print(\"Thread is working.\")\n",
    "\n",
    "# Create threads\n",
    "thread1 = threading.Thread(target=my_function)\n",
    "thread2 = threading.Thread(target=my_function)\n",
    "\n",
    "# Start threads\n",
    "thread1.start()\n",
    "thread2.start()\n",
    "\n",
    "# Wait for threads to finish\n",
    "thread1.join()\n",
    "thread2.join()\n",
    "\n",
    "# Get a list of all active threads\n",
    "all_threads = threading.enumerate()\n",
    "print(\"All active threads:\")\n",
    "for thread in all_threads:\n",
    "    print(thread.name)\n",
    "\n",
    "\n"
   ]
  },
  {
   "cell_type": "markdown",
   "metadata": {},
   "source": [
    "Q3. Explain the following functions:\n",
    "  1. run()\n",
    "  2. start()\n",
    "  3. join()\n",
    "  4. isAlive()"
   ]
  },
  {
   "cell_type": "code",
   "execution_count": 3,
   "metadata": {},
   "outputs": [
    {
     "name": "stderr",
     "output_type": "stream",
     "text": [
      "C:\\Users\\parag\\AppData\\Local\\Temp\\ipykernel_10456\\905743354.py:14: DeprecationWarning: getName() is deprecated, get the name attribute instead\n",
      "  print(f\"Thread {self.getName()} is running.\")\n"
     ]
    },
    {
     "name": "stdout",
     "output_type": "stream",
     "text": [
      "Thread Thread-11 is running.\n",
      "Thread 1: 0\n",
      "Thread 1: 1\n",
      "Thread 1: 2\n",
      "Thread 1: 3\n",
      "Thread 1: 4\n",
      "Main thread continues after joining.\n"
     ]
    },
    {
     "ename": "AttributeError",
     "evalue": "'Thread' object has no attribute 'isAlive'",
     "output_type": "error",
     "traceback": [
      "\u001b[1;31m---------------------------------------------------------------------------\u001b[0m",
      "\u001b[1;31mAttributeError\u001b[0m                            Traceback (most recent call last)",
      "Cell \u001b[1;32mIn[3], line 39\u001b[0m\n\u001b[0;32m     36\u001b[0m my_thread2 \u001b[38;5;241m=\u001b[39m threading\u001b[38;5;241m.\u001b[39mThread(target\u001b[38;5;241m=\u001b[39mmy_function)\n\u001b[0;32m     37\u001b[0m my_thread2\u001b[38;5;241m.\u001b[39mstart()\n\u001b[1;32m---> 39\u001b[0m \u001b[38;5;28;01mwhile\u001b[39;00m \u001b[43mmy_thread2\u001b[49m\u001b[38;5;241;43m.\u001b[39;49m\u001b[43misAlive\u001b[49m():\n\u001b[0;32m     40\u001b[0m     \u001b[38;5;28mprint\u001b[39m(\u001b[38;5;124m\"\u001b[39m\u001b[38;5;124mWaiting for the thread to finish...\u001b[39m\u001b[38;5;124m\"\u001b[39m)\n\u001b[0;32m     41\u001b[0m     time\u001b[38;5;241m.\u001b[39msleep(\u001b[38;5;241m1\u001b[39m)\n",
      "\u001b[1;31mAttributeError\u001b[0m: 'Thread' object has no attribute 'isAlive'"
     ]
    },
    {
     "name": "stdout",
     "output_type": "stream",
     "text": [
      "Thread is working.\n"
     ]
    }
   ],
   "source": [
    "# Import the threading module\n",
    "import threading\n",
    "import time\n",
    "\n",
    "# Function to be executed by the thread\n",
    "def print_numbers():\n",
    "    for i in range(5):\n",
    "        print(f\"Thread 1: {i}\")\n",
    "\n",
    "# Create a custom thread class\n",
    "class MyThread(threading.Thread):\n",
    "    # Override the run() method\n",
    "    def run(self):\n",
    "        print(f\"Thread {self.getName()} is running.\")\n",
    "\n",
    "# Function with a sleep to simulate a task\n",
    "def my_function():\n",
    "    time.sleep(2)\n",
    "    print(\"Thread is working.\")\n",
    "\n",
    "# --- Examples of Threading Functions ---\n",
    "\n",
    "# Example 1: Using the run() method\n",
    "my_custom_thread = MyThread()\n",
    "my_custom_thread.run()  # Note: Directly calling run() won't start a new thread\n",
    "\n",
    "# Example 2: Using the start() method\n",
    "my_thread = threading.Thread(target=print_numbers)\n",
    "my_thread.start()\n",
    "\n",
    "# Example 3: Using the join() method\n",
    "my_thread.join()\n",
    "print(\"Main thread continues after joining.\")\n",
    "\n",
    "# Example 4: Using the isAlive() method\n",
    "my_thread2 = threading.Thread(target=my_function)\n",
    "my_thread2.start()\n",
    "\n",
    "while my_thread2.isAlive():\n",
    "    print(\"Waiting for the thread to finish...\")\n",
    "    time.sleep(1)\n",
    "\n",
    "print(\"Thread has finished.\")\n"
   ]
  },
  {
   "cell_type": "markdown",
   "metadata": {},
   "source": [
    "Q4. Write a python program to create two threads. Thread one must print the list of squares and thread\n",
    "two must print the list of cubes"
   ]
  },
  {
   "cell_type": "code",
   "execution_count": 4,
   "metadata": {},
   "outputs": [
    {
     "name": "stdout",
     "output_type": "stream",
     "text": [
      "Thread 1: Square of 1 is 1Thread 2: Cube of 1 is 1\n",
      "Thread 2: Cube of 2 is 8\n",
      "Thread 2: Cube of 3 is 27\n",
      "Thread 2: Cube of 4 is 64\n",
      "Thread 2: Cube of 5 is 125\n",
      "\n",
      "Thread 1: Square of 2 is 4\n",
      "Thread 1: Square of 3 is 9\n",
      "Thread 1: Square of 4 is 16\n",
      "Thread 1: Square of 5 is 25\n",
      "Main thread exiting.\n"
     ]
    }
   ],
   "source": [
    "import threading\n",
    "\n",
    "def print_squares():\n",
    "    for i in range(1, 6):\n",
    "        print(f\"Thread 1: Square of {i} is {i ** 2}\")\n",
    "\n",
    "def print_cubes():\n",
    "    for i in range(1, 6):\n",
    "        print(f\"Thread 2: Cube of {i} is {i ** 3}\")\n",
    "\n",
    "# Create two threads\n",
    "thread1 = threading.Thread(target=print_squares)\n",
    "thread2 = threading.Thread(target=print_cubes)\n",
    "\n",
    "# Start the threads\n",
    "thread1.start()\n",
    "thread2.start()\n",
    "\n",
    "# Wait for both threads to finish\n",
    "thread1.join()\n",
    "thread2.join()\n",
    "\n",
    "print(\"Main thread exiting.\")\n"
   ]
  },
  {
   "cell_type": "markdown",
   "metadata": {},
   "source": [
    "Q5. State advantages and disadvantages of multithreading."
   ]
  },
  {
   "cell_type": "code",
   "execution_count": 5,
   "metadata": {},
   "outputs": [],
   "source": [
    "# Advantages of Multithreading:\n",
    "\n",
    "# 1. Concurrency:\n",
    "#    Multithreading allows multiple threads to execute concurrently, enhancing overall system efficiency.\n",
    "\n",
    "# 2. Responsiveness:\n",
    "#    Applications, especially GUIs, remain responsive as one thread can perform tasks while others are waiting for I/O or executing.\n",
    "\n",
    "\n",
    "# Disadvantages of Multithreading:\n",
    "\n",
    "# 1. Complexity and Difficulty of Debugging:\n",
    "#    Multithreaded programs can be challenging to debug due to race conditions, deadlocks, and synchronization issues.\n",
    "\n",
    "# 2. Race Conditions:\n",
    "#    Concurrent access to shared data can lead to race conditions, requiring careful synchronization to avoid unpredictable behavior.\n",
    "\n",
    "\n"
   ]
  },
  {
   "cell_type": "markdown",
   "metadata": {},
   "source": [
    "Q6. Explain deadlocks and race conditions."
   ]
  },
  {
   "cell_type": "code",
   "execution_count": 6,
   "metadata": {},
   "outputs": [],
   "source": [
    "# Race Conditions:\n",
    "\n",
    "# A race condition occurs when the behavior of a program depends on the relative timing or interleaving of events,\n",
    "# and the outcome becomes unpredictable when multiple threads access shared data concurrently.\n",
    "\n",
    "# Example Scenario:\n",
    "# Two threads increment a shared variable without proper synchronization.\n",
    "\n",
    "# Result:\n",
    "# The final value of the shared variable depends on the timing of thread execution,\n",
    "# and it may not reflect the intended result due to simultaneous updates.\n",
    "\n",
    "# To Prevent Race Conditions:\n",
    "# Use synchronization mechanisms like locks or mutexes to ensure mutually exclusive access to shared resources.\n",
    "# This avoids conflicts and ensures that only one thread at a time can modify critical sections of the code.\n",
    "\n",
    "# -------------------------------------\n",
    "\n",
    "# Deadlock:\n",
    "\n",
    "# Deadlock occurs when two or more threads are blocked, each waiting for the other to release a resource.\n",
    "# This creates a circular waiting scenario, preventing any of the involved threads from making progress.\n",
    "\n",
    "# Example Scenario:\n",
    "# Thread 1 holds Resource A and requests Resource B.\n",
    "# Thread 2 holds Resource B and requests Resource A.\n",
    "\n",
    "# Result:\n",
    "# Both threads are waiting for a resource held by the other, leading to a standstill.\n",
    "# Neither thread can proceed, and the program becomes unresponsive.\n",
    "\n",
    "# To Prevent Deadlocks:\n",
    "# Implement a systematic approach to acquiring and releasing resources.\n",
    "# Use mechanisms like locks, avoid circular waits, and establish a predetermined order for resource acquisition.\n"
   ]
  }
 ],
 "metadata": {
  "kernelspec": {
   "display_name": "Python 3",
   "language": "python",
   "name": "python3"
  },
  "language_info": {
   "codemirror_mode": {
    "name": "ipython",
    "version": 3
   },
   "file_extension": ".py",
   "mimetype": "text/x-python",
   "name": "python",
   "nbconvert_exporter": "python",
   "pygments_lexer": "ipython3",
   "version": "3.11.3"
  }
 },
 "nbformat": 4,
 "nbformat_minor": 2
}
